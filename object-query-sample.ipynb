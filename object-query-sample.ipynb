{
 "cells": [
  {
   "cell_type": "markdown",
   "metadata": {},
   "source": [
    "# NECモバイルバックエンド基盤 Jupyter Notebook Sample\n",
    "\n",
    "REST API 経由でNECモバイルバックエンド基盤(以下BaaS)サーバに対してオブジェクト検索を行い、取得したデータを簡易的にプロットするサンプルです。\n",
    "\n",
    "## 接続先BaaSサーバ情報を設定\n",
    "\n",
    "~/.baas/python ディレクトリに python_config.yaml ファイルを作成し、BaaSサーバの接続情報を記述してください。\n",
    "\n",
    "記述方法の詳細は、[Python SDK : 初期化](https://nec-baas.github.io/baas-manual/latest/developer/ja/python/initialize.html) ⇒ 「BaaSサーバ接続先自動設定」を参照してください。\n",
    "\n",
    "設定ファイルを使用しない場合は、以下に直接設定情報を記述してください。\n"
   ]
  },
  {
   "cell_type": "code",
   "execution_count": null,
   "metadata": {},
   "outputs": [],
   "source": [
    "config = None\n",
    "\n",
    "# 設定情報を直接記述する場合は、以下をコメントインして設定を記述してください。\n",
    "\"\"\"\n",
    "config = {\n",
    "    \"baseUrl\": \"https://baas.example.com/api\",\n",
    "    \"tenantId\": \"tenant1\",\n",
    "    \"appId\": \"\",\n",
    "    \"appKey\": \"\"\n",
    "    #\"proxy\": {\n",
    "    #    \"http\": \"proxy.example.com:8080\",\n",
    "    #    \"https\": \"proxy.example.com:8080\"\n",
    "    #}\n",
    "}\n",
    "\"\"\""
   ]
  },
  {
   "cell_type": "markdown",
   "metadata": {},
   "source": [
    "## オブジェクト検索\n",
    "necbaas モジュールを使い REST API 経由でオブジェクトデータを検索します。  \n",
    "\n",
    "本サンプルでは \"Sample_WeatherData\" バケット内のオブジェクトを、\"dateTime\" フィールドの値について範囲指定で取得します。  \n",
    "検索に用いるパラメータは以下の通り。\n",
    "* where ： 検索条件。MongoDBのクエリを指定。\n",
    "* order ： ソート条件。\n",
    "* limit ： 検索結果の取得数。-1は無制限。デフォルトは100。\n",
    "* projection ： 検索結果で取得するフィールドを制限する。\n",
    "\n",
    "検索の詳細はマニュアルを参照してください。  \n",
    "[JSONオブジェクトストレージ](https://nec-baas.github.io/baas-manual/latest/developer/ja/developer/functions/object_storage.html)\n",
    "⇒ オブジェクトの検索(クエリ)"
   ]
  },
  {
   "cell_type": "code",
   "execution_count": null,
   "metadata": {
    "scrolled": false
   },
   "outputs": [],
   "source": [
    "import necbaas as baas\n",
    "\n",
    "\n",
    "# 初期化\n",
    "service = baas.Service(config)\n",
    "\n",
    "# サーバ証明書検証をスキップする場合のみ False に設定\n",
    "service.verify_server_cert = False\n",
    "\n",
    "# 検索対象のオブジェクトバケット\n",
    "bucket = baas.ObjectBucket(service, \"Sample_WeatherData\")\n",
    "\n",
    "# オブジェクト検索実行\n",
    "results = bucket.query(\n",
    "    where={\"dateTime\": {\"$gt\": \"2016-08-01 00:00\", \"$lte\": \"2016-09-01 00:00\"}},\n",
    "    order=\"dateTime\",\n",
    "    limit=-1,\n",
    "    projection={\"ACL\": 0, \"etag\": 0, \"createdAt\": 0, \"updatedAt\": 0},\n",
    ")\n",
    "\n",
    "# 検索結果の数と先頭のオブジェクトを表示 (for Debug)\n",
    "print(\"num of objects:\", len(results))\n",
    "results[0]\n"
   ]
  },
  {
   "cell_type": "markdown",
   "metadata": {},
   "source": [
    "necbaasに依存するコードはここまでです。\n",
    "\n",
    "取得したデータの解析や描画は任意の方法で行ってください。  \n",
    "本サンプルでは pandas の DataFrame にデータを変換し、グラフ描画します。\n",
    "\n",
    "## DataFrame データ変換\n",
    "\n",
    "pandas.DataFrame にデータを変換します。"
   ]
  },
  {
   "cell_type": "code",
   "execution_count": null,
   "metadata": {
    "scrolled": false
   },
   "outputs": [],
   "source": [
    "import pandas as pd\n",
    "import dateutil.parser as parser\n",
    "import copy\n",
    "\n",
    "def conv(d):\n",
    "    d = copy.deepcopy(d)\n",
    "    d.pop(\"_id\")\n",
    "    d[\"dateTime\"] = parser.parse(d[\"dateTime\"])\n",
    "    d[\"windSpeed\"] = d[\"wind\"][\"speed\"]\n",
    "    d[\"windDirection\"] = d[\"wind\"][\"direction\"]\n",
    "    d.pop(\"wind\")\n",
    "    return d\n",
    "\n",
    "df = pd.DataFrame(list(map(conv, results)))\n",
    "df"
   ]
  },
  {
   "cell_type": "markdown",
   "metadata": {},
   "source": [
    "## グラフ表示\n",
    "\n",
    "DataFrame.plot() を使用してグラフを表示します。"
   ]
  },
  {
   "cell_type": "code",
   "execution_count": null,
   "metadata": {},
   "outputs": [],
   "source": [
    "df.plot(x=\"dateTime\", y=[\"airTemp\", \"rainfall\", \"windSpeed\"], figsize=(16, 8))\n"
   ]
  }
 ],
 "metadata": {
  "kernelspec": {
   "display_name": "Python 3",
   "language": "python",
   "name": "python3"
  },
  "language_info": {
   "codemirror_mode": {
    "name": "ipython",
    "version": 3
   },
   "file_extension": ".py",
   "mimetype": "text/x-python",
   "name": "python",
   "nbconvert_exporter": "python",
   "pygments_lexer": "ipython3",
   "version": "3.6.4"
  }
 },
 "nbformat": 4,
 "nbformat_minor": 2
}
